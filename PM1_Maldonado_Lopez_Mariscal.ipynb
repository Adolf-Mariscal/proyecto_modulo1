{
 "cells": [
  {
   "cell_type": "markdown",
   "metadata": {},
   "source": [
    "<h1 style=\"color:Green\"> PROYECTO 1. Corrección de Curvas </h1>\n",
    " \n",
    "### Simulación Matemática\n",
    "### Profesor: Cristian Zapata\n",
    "### Integrantes : \n",
    "+ Estephanie Mendivil \n",
    "+ Adolfo Mriscal \n",
    "+ Francisco Gonzalez"
   ]
  },
  {
   "cell_type": "markdown",
   "metadata": {},
   "source": [
    "I. <Strong><font color=\"green\">Introducción </font> </Strong> "
   ]
  },
  {
   "cell_type": "markdown",
   "metadata": {},
   "source": [
    "![Alt text](https://i1.wp.com/www.sopitas.com/wp-content/uploads/2019/04/interjet.jpg)"
   ]
  },
  {
   "cell_type": "markdown",
   "metadata": {},
   "source": [
    "> <p style='text-align: justify;'> \n",
    "En ciencias e ingeniería es frecuente que un experimento\n",
    "produzca un conjunto de datos $$(x_1, y_1)\\dots (x_N, y_N).$$\n",
    "siendo las abcisas $$({x_K})$$distintas entre sí.\n",
    "\n",
    "</p>"
   ]
  },
  {
   "cell_type": "markdown",
   "metadata": {},
   "source": [
    "> <p style='text-align: justify;'> \n",
    "Uno de los objetivos del cálculo numérico es la\n",
    "determinación de una fórmula $$ y = f(x)$$ que relacione las\n",
    "variables (ajustar una curva a datos experimentales).\n",
    "</p>"
   ]
  },
  {
   "cell_type": "markdown",
   "metadata": {},
   "source": [
    "> <p style='text-align: justify;'> \n",
    "Normalmente se dispone de una serie de fórmulas\n",
    "previamente establecidas, y lo que hay que hallar son los\n",
    "valores más adecuados de unos coeficientes o unos\n",
    "parámetros para estas fórmulas.</p>"
   ]
  },
  {
   "cell_type": "markdown",
   "metadata": {},
   "source": [
    "___"
   ]
  },
  {
   "cell_type": "markdown",
   "metadata": {},
   "source": [
    "II. <Strong><font color=\"green\"> Planteamiento del Problema </font> </Strong>"
   ]
  },
  {
   "cell_type": "markdown",
   "metadata": {},
   "source": [
    "> <p style='text-align: justify;'> Para el proyecto elegimos las salidas registradas de transporte desde los aeropuertos, decidimos centrarnos en México y es necesario polinomio que mejor se ajuste por medio del algoritmo programado, así podremos realizar estimaciones para años futuros y poder prever la cantidad de pasajeros en años futuros\n",
    "\n",
    "</p>"
   ]
  },
  {
   "cell_type": "markdown",
   "metadata": {},
   "source": [
    "___"
   ]
  },
  {
   "cell_type": "markdown",
   "metadata": {},
   "source": [
    "III. <Strong> <font color=\"green\">  Resultados\n",
    "    "
   ]
  },
  {
   "cell_type": "code",
   "execution_count": 1,
   "metadata": {},
   "outputs": [],
   "source": [
    "import numpy as np\n",
    "import matplotlib.pyplot as plt\n",
    "%matplotlib inline"
   ]
  },
  {
   "cell_type": "code",
   "execution_count": 2,
   "metadata": {},
   "outputs": [],
   "source": [
    "import pandas as pd"
   ]
  },
  {
   "cell_type": "code",
   "execution_count": 3,
   "metadata": {},
   "outputs": [
    {
     "data": {
      "text/html": [
       "<div>\n",
       "<style scoped>\n",
       "    .dataframe tbody tr th:only-of-type {\n",
       "        vertical-align: middle;\n",
       "    }\n",
       "\n",
       "    .dataframe tbody tr th {\n",
       "        vertical-align: top;\n",
       "    }\n",
       "\n",
       "    .dataframe thead th {\n",
       "        text-align: right;\n",
       "    }\n",
       "</style>\n",
       "<table border=\"1\" class=\"dataframe\">\n",
       "  <thead>\n",
       "    <tr style=\"text-align: right;\">\n",
       "      <th></th>\n",
       "      <th>0</th>\n",
       "      <th>1</th>\n",
       "    </tr>\n",
       "  </thead>\n",
       "  <tbody>\n",
       "    <tr>\n",
       "      <th>0</th>\n",
       "      <td>1970</td>\n",
       "      <td>56500</td>\n",
       "    </tr>\n",
       "    <tr>\n",
       "      <th>1</th>\n",
       "      <td>1971</td>\n",
       "      <td>49600</td>\n",
       "    </tr>\n",
       "    <tr>\n",
       "      <th>2</th>\n",
       "      <td>1972</td>\n",
       "      <td>54800</td>\n",
       "    </tr>\n",
       "    <tr>\n",
       "      <th>3</th>\n",
       "      <td>1973</td>\n",
       "      <td>91200</td>\n",
       "    </tr>\n",
       "    <tr>\n",
       "      <th>4</th>\n",
       "      <td>1974</td>\n",
       "      <td>101600</td>\n",
       "    </tr>\n",
       "    <tr>\n",
       "      <th>5</th>\n",
       "      <td>1975</td>\n",
       "      <td>112100</td>\n",
       "    </tr>\n",
       "    <tr>\n",
       "      <th>6</th>\n",
       "      <td>1976</td>\n",
       "      <td>115300</td>\n",
       "    </tr>\n",
       "    <tr>\n",
       "      <th>7</th>\n",
       "      <td>1977</td>\n",
       "      <td>111900</td>\n",
       "    </tr>\n",
       "    <tr>\n",
       "      <th>8</th>\n",
       "      <td>1978</td>\n",
       "      <td>115200</td>\n",
       "    </tr>\n",
       "    <tr>\n",
       "      <th>9</th>\n",
       "      <td>1979</td>\n",
       "      <td>129300</td>\n",
       "    </tr>\n",
       "    <tr>\n",
       "      <th>10</th>\n",
       "      <td>1980</td>\n",
       "      <td>177100</td>\n",
       "    </tr>\n",
       "    <tr>\n",
       "      <th>11</th>\n",
       "      <td>1981</td>\n",
       "      <td>151800</td>\n",
       "    </tr>\n",
       "    <tr>\n",
       "      <th>12</th>\n",
       "      <td>1982</td>\n",
       "      <td>144800</td>\n",
       "    </tr>\n",
       "    <tr>\n",
       "      <th>13</th>\n",
       "      <td>1983</td>\n",
       "      <td>202300</td>\n",
       "    </tr>\n",
       "    <tr>\n",
       "      <th>14</th>\n",
       "      <td>1984</td>\n",
       "      <td>200700</td>\n",
       "    </tr>\n",
       "    <tr>\n",
       "      <th>15</th>\n",
       "      <td>1985</td>\n",
       "      <td>204600</td>\n",
       "    </tr>\n",
       "    <tr>\n",
       "      <th>16</th>\n",
       "      <td>1986</td>\n",
       "      <td>187100</td>\n",
       "    </tr>\n",
       "    <tr>\n",
       "      <th>17</th>\n",
       "      <td>1987</td>\n",
       "      <td>189000</td>\n",
       "    </tr>\n",
       "    <tr>\n",
       "      <th>18</th>\n",
       "      <td>1988</td>\n",
       "      <td>141400</td>\n",
       "    </tr>\n",
       "    <tr>\n",
       "      <th>19</th>\n",
       "      <td>1989</td>\n",
       "      <td>152200</td>\n",
       "    </tr>\n",
       "    <tr>\n",
       "      <th>20</th>\n",
       "      <td>1990</td>\n",
       "      <td>177300</td>\n",
       "    </tr>\n",
       "    <tr>\n",
       "      <th>21</th>\n",
       "      <td>1991</td>\n",
       "      <td>189300</td>\n",
       "    </tr>\n",
       "    <tr>\n",
       "      <th>22</th>\n",
       "      <td>1992</td>\n",
       "      <td>228400</td>\n",
       "    </tr>\n",
       "    <tr>\n",
       "      <th>23</th>\n",
       "      <td>1993</td>\n",
       "      <td>246600</td>\n",
       "    </tr>\n",
       "    <tr>\n",
       "      <th>24</th>\n",
       "      <td>1994</td>\n",
       "      <td>272100</td>\n",
       "    </tr>\n",
       "    <tr>\n",
       "      <th>25</th>\n",
       "      <td>1995</td>\n",
       "      <td>225100</td>\n",
       "    </tr>\n",
       "    <tr>\n",
       "      <th>26</th>\n",
       "      <td>1996</td>\n",
       "      <td>222700</td>\n",
       "    </tr>\n",
       "    <tr>\n",
       "      <th>27</th>\n",
       "      <td>1997</td>\n",
       "      <td>264100</td>\n",
       "    </tr>\n",
       "    <tr>\n",
       "      <th>28</th>\n",
       "      <td>1998</td>\n",
       "      <td>292100</td>\n",
       "    </tr>\n",
       "    <tr>\n",
       "      <th>29</th>\n",
       "      <td>1999</td>\n",
       "      <td>328300</td>\n",
       "    </tr>\n",
       "    <tr>\n",
       "      <th>30</th>\n",
       "      <td>2000</td>\n",
       "      <td>290412</td>\n",
       "    </tr>\n",
       "    <tr>\n",
       "      <th>31</th>\n",
       "      <td>2001</td>\n",
       "      <td>292208</td>\n",
       "    </tr>\n",
       "    <tr>\n",
       "      <th>32</th>\n",
       "      <td>2002</td>\n",
       "      <td>278456</td>\n",
       "    </tr>\n",
       "    <tr>\n",
       "      <th>33</th>\n",
       "      <td>2003</td>\n",
       "      <td>287017</td>\n",
       "    </tr>\n",
       "    <tr>\n",
       "      <th>34</th>\n",
       "      <td>2004</td>\n",
       "      <td>330441</td>\n",
       "    </tr>\n",
       "    <tr>\n",
       "      <th>35</th>\n",
       "      <td>2005</td>\n",
       "      <td>331225</td>\n",
       "    </tr>\n",
       "    <tr>\n",
       "      <th>36</th>\n",
       "      <td>2006</td>\n",
       "      <td>317856</td>\n",
       "    </tr>\n",
       "    <tr>\n",
       "      <th>37</th>\n",
       "      <td>2007</td>\n",
       "      <td>309633</td>\n",
       "    </tr>\n",
       "    <tr>\n",
       "      <th>38</th>\n",
       "      <td>2008</td>\n",
       "      <td>266244</td>\n",
       "    </tr>\n",
       "    <tr>\n",
       "      <th>39</th>\n",
       "      <td>2009</td>\n",
       "      <td>222356</td>\n",
       "    </tr>\n",
       "    <tr>\n",
       "      <th>40</th>\n",
       "      <td>2010</td>\n",
       "      <td>445796</td>\n",
       "    </tr>\n",
       "    <tr>\n",
       "      <th>41</th>\n",
       "      <td>2011</td>\n",
       "      <td>386063</td>\n",
       "    </tr>\n",
       "    <tr>\n",
       "      <th>42</th>\n",
       "      <td>2012</td>\n",
       "      <td>415279</td>\n",
       "    </tr>\n",
       "    <tr>\n",
       "      <th>43</th>\n",
       "      <td>2013</td>\n",
       "      <td>435792</td>\n",
       "    </tr>\n",
       "    <tr>\n",
       "      <th>44</th>\n",
       "      <td>2014</td>\n",
       "      <td>457921</td>\n",
       "    </tr>\n",
       "    <tr>\n",
       "      <th>45</th>\n",
       "      <td>2015</td>\n",
       "      <td>508614</td>\n",
       "    </tr>\n",
       "    <tr>\n",
       "      <th>46</th>\n",
       "      <td>2016</td>\n",
       "      <td>555984</td>\n",
       "    </tr>\n",
       "    <tr>\n",
       "      <th>47</th>\n",
       "      <td>2017</td>\n",
       "      <td>567879</td>\n",
       "    </tr>\n",
       "    <tr>\n",
       "      <th>48</th>\n",
       "      <td>2018</td>\n",
       "      <td>590727</td>\n",
       "    </tr>\n",
       "  </tbody>\n",
       "</table>\n",
       "</div>"
      ],
      "text/plain": [
       "       0       1\n",
       "0   1970   56500\n",
       "1   1971   49600\n",
       "2   1972   54800\n",
       "3   1973   91200\n",
       "4   1974  101600\n",
       "5   1975  112100\n",
       "6   1976  115300\n",
       "7   1977  111900\n",
       "8   1978  115200\n",
       "9   1979  129300\n",
       "10  1980  177100\n",
       "11  1981  151800\n",
       "12  1982  144800\n",
       "13  1983  202300\n",
       "14  1984  200700\n",
       "15  1985  204600\n",
       "16  1986  187100\n",
       "17  1987  189000\n",
       "18  1988  141400\n",
       "19  1989  152200\n",
       "20  1990  177300\n",
       "21  1991  189300\n",
       "22  1992  228400\n",
       "23  1993  246600\n",
       "24  1994  272100\n",
       "25  1995  225100\n",
       "26  1996  222700\n",
       "27  1997  264100\n",
       "28  1998  292100\n",
       "29  1999  328300\n",
       "30  2000  290412\n",
       "31  2001  292208\n",
       "32  2002  278456\n",
       "33  2003  287017\n",
       "34  2004  330441\n",
       "35  2005  331225\n",
       "36  2006  317856\n",
       "37  2007  309633\n",
       "38  2008  266244\n",
       "39  2009  222356\n",
       "40  2010  445796\n",
       "41  2011  386063\n",
       "42  2012  415279\n",
       "43  2013  435792\n",
       "44  2014  457921\n",
       "45  2015  508614\n",
       "46  2016  555984\n",
       "47  2017  567879\n",
       "48  2018  590727"
      ]
     },
     "execution_count": 3,
     "metadata": {},
     "output_type": "execute_result"
    }
   ],
   "source": [
    "file= 'Vuelos_anuales_int.csv'\n",
    "data= pd.read_csv(file, header=None)\n",
    "data"
   ]
  },
  {
   "cell_type": "code",
   "execution_count": 4,
   "metadata": {},
   "outputs": [],
   "source": [
    "import numpy as np\n",
    "import scipy.optimize as opt"
   ]
  },
  {
   "cell_type": "code",
   "execution_count": 5,
   "metadata": {},
   "outputs": [],
   "source": [
    "x = data.iloc[:,0].values/(1e4)\n",
    "y = data.iloc[:,1].values/(1e6)"
   ]
  },
  {
   "cell_type": "code",
   "execution_count": 6,
   "metadata": {},
   "outputs": [],
   "source": [
    "def fun_obj(b, x, y, n):\n",
    "    return np.sum((y-b.dot([x**i for i in range(n+1)]))**2)"
   ]
  },
  {
   "cell_type": "code",
   "execution_count": 7,
   "metadata": {},
   "outputs": [],
   "source": [
    "b01 = np.zeros(2)\n",
    "ajuste1 = opt.minimize(fun_obj, b01, args=(x,y,1))\n",
    "b02 = np.zeros(3)\n",
    "ajuste2 = opt.minimize(fun_obj, b02, args=(x,y,2))\n",
    "b03 = np.zeros(4)\n",
    "ajuste3 = opt.minimize(fun_obj, b03, args=(x,y,3))\n",
    "b10 = np.zeros(11)\n",
    "ajuste10 = opt.minimize(fun_obj, b10, args=(x,y,10))"
   ]
  },
  {
   "cell_type": "markdown",
   "metadata": {},
   "source": [
    "___"
   ]
  },
  {
   "cell_type": "markdown",
   "metadata": {},
   "source": [
    "#### Se realizan los ajustes de curva para obtener el polinomio que mejor se ajuste al conjunto de datos. "
   ]
  },
  {
   "cell_type": "code",
   "execution_count": 8,
   "metadata": {},
   "outputs": [
    {
     "data": {
      "text/plain": [
       "      fun: 0.12282561264508642\n",
       " hess_inv: array([[  202.86921229, -1017.34708228],\n",
       "       [-1017.34708228,  5102.04153595]])\n",
       "      jac: array([-3.72529030e-09, -9.31322575e-10])\n",
       "  message: 'Optimization terminated successfully.'\n",
       "     nfev: 44\n",
       "      nit: 4\n",
       "     njev: 11\n",
       "   status: 0\n",
       "  success: True\n",
       "        x: array([-17.50300084,  89.04995024])"
      ]
     },
     "execution_count": 8,
     "metadata": {},
     "output_type": "execute_result"
    }
   ],
   "source": [
    "ajuste1"
   ]
  },
  {
   "cell_type": "code",
   "execution_count": 9,
   "metadata": {},
   "outputs": [
    {
     "data": {
      "text/plain": [
       "      fun: 0.12268925587643198\n",
       " hess_inv: array([[ 175.49690431, -813.92128312, -331.74113138],\n",
       "       [-813.92128312, 3775.071995  , 1538.44155356],\n",
       "       [-331.74113138, 1538.44155356,  628.12005237]])\n",
       "      jac: array([-1.21071935e-07,  1.47242099e-06, -3.75136733e-06])\n",
       "  message: 'Optimization terminated successfully.'\n",
       "     nfev: 50\n",
       "      nit: 3\n",
       "     njev: 10\n",
       "   status: 0\n",
       "  success: True\n",
       "        x: array([-16.26335869,  76.60795332,  31.21776571])"
      ]
     },
     "execution_count": 9,
     "metadata": {},
     "output_type": "execute_result"
    }
   ],
   "source": [
    "ajuste2"
   ]
  },
  {
   "cell_type": "code",
   "execution_count": 10,
   "metadata": {},
   "outputs": [
    {
     "data": {
      "text/plain": [
       "      fun: 0.12266664127522958\n",
       " hess_inv: array([[ 172.70331481, -797.35614235, -325.01971479,  -97.95946634],\n",
       "       [-797.35614235, 3681.58331079, 1500.47598816,  452.25521992],\n",
       "       [-325.01971479, 1500.47598816,  612.7025389 ,  184.37177814],\n",
       "       [ -97.95946634,  452.25521992,  184.37177814,   56.57103469]])\n",
       "      jac: array([-1.95577741e-07,  1.76113099e-06, -3.63402069e-06, -2.39256769e-06])\n",
       "  message: 'Optimization terminated successfully.'\n",
       "     nfev: 60\n",
       "      nit: 3\n",
       "     njev: 10\n",
       "   status: 0\n",
       "  success: True\n",
       "        x: array([-16.1316644 ,  75.6548732 ,  30.83220664,   9.29206536])"
      ]
     },
     "execution_count": 10,
     "metadata": {},
     "output_type": "execute_result"
    }
   ],
   "source": [
    "ajuste3"
   ]
  },
  {
   "cell_type": "code",
   "execution_count": 11,
   "metadata": {},
   "outputs": [
    {
     "data": {
      "text/plain": [
       "      fun: 0.12266396800254517\n",
       " hess_inv: array([[ 1.72464786e+02, -7.96053789e+02, -3.24490785e+02,\n",
       "        -9.78004656e+01, -2.61111372e+01, -6.52659284e+00,\n",
       "        -1.56468814e+00, -3.64924858e-01, -8.33397792e-02,\n",
       "        -1.84412392e-02, -4.60994131e-03],\n",
       "       [-7.96053789e+02,  3.67464226e+03,  1.49765557e+03,\n",
       "         4.51407074e+02,  1.20520816e+02,  3.01250703e+01,\n",
       "         7.22225535e+00,  1.68442239e+00,  3.84681930e-01,\n",
       "         8.51218084e-02,  2.12788775e-02],\n",
       "       [-3.24490785e+02,  1.49765557e+03,  6.11556502e+02,\n",
       "         1.84027149e+02,  4.91332412e+01,  1.22812143e+01,\n",
       "         2.94432675e+00,  6.86695368e-01,  1.56824842e-01,\n",
       "         3.47019505e-02,  8.67484461e-03],\n",
       "       [-9.78004656e+01,  4.51407074e+02,  1.84027149e+02,\n",
       "         5.64674006e+01,  1.48091888e+01,  3.70166512e+00,\n",
       "         8.87445720e-01,  2.06975955e-01,  4.72683697e-02,\n",
       "         1.04594691e-02,  2.61467336e-03],\n",
       "       [-2.61111372e+01,  1.20520816e+02,  4.91332412e+01,\n",
       "         1.48091888e+01,  4.95389102e+00,  9.88303958e-01,\n",
       "         2.36938260e-01,  5.52603056e-02,  1.26201351e-02,\n",
       "         2.79256325e-03,  6.98089024e-04],\n",
       "       [-6.52659284e+00,  3.01250703e+01,  1.22812143e+01,\n",
       "         3.70166512e+00,  9.88303958e-01,  1.24703379e+00,\n",
       "         5.92244474e-02,  1.38127165e-02,  3.15449481e-03,\n",
       "         6.98021547e-04,  1.74492440e-04],\n",
       "       [-1.56468814e+00,  7.22225535e+00,  2.94432675e+00,\n",
       "         8.87445720e-01,  2.36938260e-01,  5.92244474e-02,\n",
       "         1.01419860e+00,  3.31149226e-03,  7.56265798e-04,\n",
       "         1.67345281e-04,  4.18332160e-05],\n",
       "       [-3.64924858e-01,  1.68442239e+00,  6.86695368e-01,\n",
       "         2.06975955e-01,  5.52603056e-02,  1.38127165e-02,\n",
       "         3.31149226e-03,  1.00077233e+00,  1.76381298e-04,\n",
       "         3.90293702e-05,  9.75661850e-06],\n",
       "       [-8.33397792e-02,  3.84681930e-01,  1.56824842e-01,\n",
       "         4.72683697e-02,  1.26201351e-02,  3.15449481e-03,\n",
       "         7.56265798e-04,  1.76381298e-04,  1.00004028e+00,\n",
       "         8.91337656e-06,  2.22817877e-06],\n",
       "       [-1.84412392e-02,  8.51218084e-02,  3.47019505e-02,\n",
       "         1.04594691e-02,  2.79256325e-03,  6.98021547e-04,\n",
       "         1.67345281e-04,  3.90293702e-05,  8.91337656e-06,\n",
       "         1.00000197e+00,  4.93047815e-07],\n",
       "       [-4.60994131e-03,  2.12788775e-02,  8.67484461e-03,\n",
       "         2.61467336e-03,  6.98089024e-04,  1.74492440e-04,\n",
       "         4.18332160e-05,  9.75661850e-06,  2.22817877e-06,\n",
       "         4.93047815e-07,  1.00000012e+00]])\n",
       "      jac: array([-1.93715096e-07,  1.77323818e-06, -3.62936407e-06, -2.38977373e-06,\n",
       "       -9.84407961e-07, -3.33413482e-07, -1.01514161e-07, -2.79396772e-08,\n",
       "       -7.45058060e-09, -9.31322575e-10, -1.86264515e-09])\n",
       "  message: 'Optimization terminated successfully.'\n",
       "     nfev: 130\n",
       "      nit: 3\n",
       "     njev: 10\n",
       "   status: 0\n",
       "  success: True\n",
       "        x: array([-1.61203682e+01,  7.55836354e+01,  3.08033551e+01,  9.28340939e+00,\n",
       "        2.47843756e+00,  6.19484053e-01,  1.48513422e-01,  3.46367612e-02,\n",
       "        7.91012068e-03,  1.75032520e-03,  4.37542107e-04])"
      ]
     },
     "execution_count": 11,
     "metadata": {},
     "output_type": "execute_result"
    }
   ],
   "source": [
    "ajuste10"
   ]
  },
  {
   "cell_type": "code",
   "execution_count": 12,
   "metadata": {},
   "outputs": [],
   "source": [
    "xpoints = x*1e4\n",
    "ypoints = y*1e6\n",
    "yhat1 = (ajuste1.x[0]+ajuste1.x[1]*xpoints/(1e4))*1e6\n",
    "yhat2 = (ajuste2.x[0]+ajuste2.x[1]*xpoints/(1e4)+\n",
    "         ajuste2.x[2]*(xpoints/(1e4))**2)*1e6\n",
    "yhat3 = (ajuste3.x[0]+ajuste3.x[1]*xpoints/(1e4)+\n",
    "         ajuste3.x[2]*(xpoints/(1e4))**2+\n",
    "         ajuste3.x[3]*(xpoints/(1e4))**3)*1e6\n",
    "yhat10 = (ajuste10.x[0]+ajuste10.x[1]*xpoints/(1e4)+\n",
    "         ajuste10.x[2]*(xpoints/(1e4))**2+\n",
    "         ajuste10.x[3]*(xpoints/(1e4))**3+\n",
    "         ajuste10.x[4]*(xpoints/(1e4))**4+\n",
    "         ajuste10.x[5]*(xpoints/(1e4))**5+\n",
    "         ajuste10.x[6]*(xpoints/(1e4))**6+\n",
    "         ajuste10.x[7]*(xpoints/(1e4))**7+\n",
    "         ajuste10.x[8]*(xpoints/(1e4))**8+\n",
    "         ajuste10.x[9]*(xpoints/(1e4))**9+\n",
    "         ajuste10.x[10]*(xpoints/(1e4))**10)*1e6"
   ]
  },
  {
   "cell_type": "code",
   "execution_count": 13,
   "metadata": {},
   "outputs": [],
   "source": [
    "import matplotlib.pyplot as plt"
   ]
  },
  {
   "cell_type": "code",
   "execution_count": 14,
   "metadata": {},
   "outputs": [
    {
     "data": {
      "image/png": "[encoded data removed]",
      "text/plain": [
       "<Figure size 720x576 with 1 Axes>"
      ]
     },
     "metadata": {
      "needs_background": "light"
     },
     "output_type": "display_data"
    }
   ],
   "source": [
    "plt.figure(figsize=(10,8))\n",
    "plt.plot(xpoints, ypoints, 'ro', ms=5, label='Datos')\n",
    "plt.plot(xpoints, yhat1, 'k', lw=2, label='Ajuste 1')\n",
    "plt.plot(xpoints, yhat2, 'b', lw=2, label='Ajuste 2')\n",
    "plt.plot(xpoints, yhat3, 'y', lw=2, label='Ajuste 3')\n",
    "plt.plot(xpoints, yhat10, 'g', lw=2, label='Ajuste 10')\n",
    "plt.xlabel('Años')\n",
    "plt.ylabel('Población (miles de personas)')\n",
    "plt.grid()\n",
    "plt.legend(loc='best')\n",
    "plt.show()"
   ]
  },
  {
   "cell_type": "code",
   "execution_count": 15,
   "metadata": {},
   "outputs": [
    {
     "data": {
      "text/plain": [
       "Text(0, 0.5, 'error')"
      ]
     },
     "execution_count": 15,
     "metadata": {},
     "output_type": "execute_result"
    },
    {
     "data": {
      "image/png": "[encoded data removed]",
      "text/plain": [
       "<Figure size 576x432 with 1 Axes>"
      ]
     },
     "metadata": {
      "needs_background": "light"
     },
     "output_type": "display_data"
    }
   ],
   "source": [
    "error = [ajuste1.fun, ajuste2.fun, ajuste3.fun,ajuste10.fun]\n",
    "plt.figure(figsize=(8,6))\n",
    "plt.plot(range(1,5), error, 'ro', ms=5)\n",
    "plt.xlabel('Orden del polinomio')\n",
    "plt.ylabel('error')"
   ]
  },
  {
   "cell_type": "markdown",
   "metadata": {},
   "source": [
    "##### En la grafica anterior se puede observar que el polinomio que mejor se ajusta es el de grado 3, pues después de éste la diferencia entre errores "
   ]
  },
  {
   "cell_type": "markdown",
   "metadata": {},
   "source": [
    "##### El polinomio que mejor funciona es el de grado 3"
   ]
  },
  {
   "cell_type": "markdown",
   "metadata": {},
   "source": [
    "###### Los siguientes ajustes estiman los pasajeros para los años 2016 y 2017 respectivamente ."
   ]
  },
  {
   "cell_type": "code",
   "execution_count": 18,
   "metadata": {},
   "outputs": [
    {
     "data": {
      "text/plain": [
       "450949.57368390646"
      ]
     },
     "execution_count": 18,
     "metadata": {},
     "output_type": "execute_result"
    }
   ],
   "source": [
    "yhat3 = (ajuste3.x[0]+ajuste3.x[1]*2016/(1e4)+\n",
    "         ajuste3.x[2]*(2017/(1e4))**2+\n",
    "         ajuste3.x[3]*(2017/(1e4))**3)*1e6\n",
    "\n",
    "yhat3"
   ]
  },
  {
   "cell_type": "code",
   "execution_count": 19,
   "metadata": {},
   "outputs": [
    {
     "data": {
      "text/plain": [
       "459872.6051987565"
      ]
     },
     "execution_count": 19,
     "metadata": {},
     "output_type": "execute_result"
    }
   ],
   "source": [
    "yhat3 = (ajuste3.x[0]+ajuste3.x[1]*2017/(1e4)+\n",
    "         ajuste3.x[2]*(2018/(1e4))**2+\n",
    "         ajuste3.x[3]*(2018/(1e4))**3)*1e6\n",
    "\n",
    "yhat3"
   ]
  },
  {
   "cell_type": "markdown",
   "metadata": {},
   "source": [
    "___"
   ]
  },
  {
   "cell_type": "markdown",
   "metadata": {},
   "source": [
    "IV. <Strong> <font color=\"green\"> Conclusiones <font> </Strong> "
   ]
  },
  {
   "cell_type": "markdown",
   "metadata": {},
   "source": [
    ">  \n",
    "- Es mas rápido y fácil ajustar las curvas en el programa e    incluso se pueden ver las graficas para comparar los resultados medidos y los resultados procesados por el programa.\n",
    "- Un arreglo de tercer grado es suficiente para la función ya que despues de esta el error no se reduce exponencialmente.\n",
    "- Finalmente la estimación para los años siguientes a de los datos dados nos da una continuación coherente a nuestras graficas.\n",
    "\n"
   ]
  },
  {
   "cell_type": "markdown",
   "metadata": {},
   "source": [
    "___"
   ]
  },
  {
   "cell_type": "markdown",
   "metadata": {},
   "source": [
    "V. <Strong> <font color=\"green\"> Referencias <font> </Strong> "
   ]
  },
  {
   "cell_type": "markdown",
   "metadata": {},
   "source": [
    "##### Clase 4:  Optimización con SymPy.\n",
    "##### Clase 6: Ajuste de curvas.\n",
    "###### World Bank group . (2019). Air transport, registered carrier departures worldwide. 29/09/2019, de World Bank group Sitio web: https://data.worldbank.org/indicator/IS.AIR.DPRT\n",
    "\n",
    "\n"
   ]
  }
 ],
 "metadata": {
  "kernelspec": {
   "display_name": "Python 3",
   "language": "python",
   "name": "python3"
  },
  "language_info": {
   "codemirror_mode": {
    "name": "ipython",
    "version": 3
   },
   "file_extension": ".py",
   "mimetype": "text/x-python",
   "name": "python",
   "nbconvert_exporter": "python",
   "pygments_lexer": "ipython3",
   "version": "3.7.3"
  }
 },
 "nbformat": 4,
 "nbformat_minor": 2
}
