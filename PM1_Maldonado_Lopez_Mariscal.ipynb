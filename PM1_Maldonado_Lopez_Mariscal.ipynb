{
 "cells": [
  {
   "cell_type": "markdown",
   "metadata": {},
   "source": [
    "<h1 style=\"color:Green\"> PROYECTO 1. Corrección de Curvas </h1>\n",
    " \n",
    "### Simulación Matemática\n",
    "### Profesor: Cristian Zapata\n",
    "### Integrantes : \n",
    "+ Estephanie Mendivil \n",
    "+ Adolfo Mriscal \n",
    "+ Francisco Gonzalez"
   ]
  },
  {
   "cell_type": "markdown",
   "metadata": {},
   "source": [
    "I. <Strong><font color=\"green\">Introducción </font> </Strong> "
   ]
  },
  {
   "cell_type": "markdown",
   "metadata": {},
   "source": [
    "![Alt text](https://i1.wp.com/www.sopitas.com/wp-content/uploads/2019/04/interjet.jpg)"
   ]
  },
  {
   "cell_type": "markdown",
   "metadata": {},
   "source": [
    "> <p style='text-align: justify;'> \n",
    "En ciencias e ingeniería es frecuente que un experimento\n",
    "produzca un conjunto de datos $$(x_1, y_1)\\dots (x_N, y_N).$$\n",
    "siendo las abcisas $$({x_K})$$distintas entre sí.\n",
    "\n",
    "</p>"
   ]
  },
  {
   "cell_type": "markdown",
   "metadata": {},
   "source": [
    "> <p style='text-align: justify;'> \n",
    "Uno de los objetivos del cálculo numérico es la\n",
    "determinación de una fórmula $$ y = f(x)$$ que relacione las\n",
    "variables (ajustar una curva a datos experimentales).\n",
    "</p>"
   ]
  },
  {
   "cell_type": "markdown",
   "metadata": {},
   "source": [
    "> <p style='text-align: justify;'> \n",
    "Normalmente se dispone de una serie de fórmulas\n",
    "previamente establecidas, y lo que hay que hallar son los\n",
    "valores más adecuados de unos coeficientes o unos\n",
    "parámetros para estas fórmulas.</p>"
   ]
  },
  {
   "cell_type": "markdown",
   "metadata": {},
   "source": [
    "___"
   ]
  },
  {
   "cell_type": "markdown",
   "metadata": {},
   "source": [
    "II. <Strong><font color=\"green\"> Planteamiento del Problema </font> </Strong>"
   ]
  },
  {
   "cell_type": "markdown",
   "metadata": {},
   "source": [
    "> <p style='text-align: justify;'> Para el proyecto elegimos las salidas registradas de transporte desde los aeropuertos, decidimos centrarnos en México y es necesario polinomio que mejor se ajuste por medio del algoritmo programado, así podremos realizar estimaciones para años futuros y poder prever la cantidad de pasajeros en años futuros\n",
    "\n",
    "</p>"
   ]
  },
  {
   "cell_type": "markdown",
   "metadata": {},
   "source": [
    "___"
   ]
  },
  {
   "cell_type": "markdown",
   "metadata": {},
   "source": [
    "III. <Strong> <font color=\"green\">  Resultados\n",
    "    "
   ]
  },
  {
   "cell_type": "code",
   "execution_count": 4,
   "metadata": {},
   "outputs": [],
   "source": [
    "import numpy as np\n",
    "import matplotlib.pyplot as plt\n",
    "%matplotlib inline"
   ]
  },
  {
   "cell_type": "code",
   "execution_count": 5,
   "metadata": {},
   "outputs": [],
   "source": [
    "import pandas as pd"
   ]
  },
  {
   "cell_type": "code",
   "execution_count": 18,
   "metadata": {},
   "outputs": [
    {
     "data": {
      "text/html": [
       "<div>\n",
       "<style scoped>\n",
       "    .dataframe tbody tr th:only-of-type {\n",
       "        vertical-align: middle;\n",
       "    }\n",
       "\n",
       "    .dataframe tbody tr th {\n",
       "        vertical-align: top;\n",
       "    }\n",
       "\n",
       "    .dataframe thead th {\n",
       "        text-align: right;\n",
       "    }\n",
       "</style>\n",
       "<table border=\"1\" class=\"dataframe\">\n",
       "  <thead>\n",
       "    <tr style=\"text-align: right;\">\n",
       "      <th></th>\n",
       "      <th>0</th>\n",
       "      <th>1</th>\n",
       "    </tr>\n",
       "  </thead>\n",
       "  <tbody>\n",
       "    <tr>\n",
       "      <th>0</th>\n",
       "      <td>1970</td>\n",
       "      <td>56500</td>\n",
       "    </tr>\n",
       "    <tr>\n",
       "      <th>1</th>\n",
       "      <td>1971</td>\n",
       "      <td>49600</td>\n",
       "    </tr>\n",
       "    <tr>\n",
       "      <th>2</th>\n",
       "      <td>1972</td>\n",
       "      <td>54800</td>\n",
       "    </tr>\n",
       "    <tr>\n",
       "      <th>3</th>\n",
       "      <td>1973</td>\n",
       "      <td>91200</td>\n",
       "    </tr>\n",
       "    <tr>\n",
       "      <th>4</th>\n",
       "      <td>1974</td>\n",
       "      <td>101600</td>\n",
       "    </tr>\n",
       "    <tr>\n",
       "      <th>5</th>\n",
       "      <td>1975</td>\n",
       "      <td>112100</td>\n",
       "    </tr>\n",
       "    <tr>\n",
       "      <th>6</th>\n",
       "      <td>1976</td>\n",
       "      <td>115300</td>\n",
       "    </tr>\n",
       "    <tr>\n",
       "      <th>7</th>\n",
       "      <td>1977</td>\n",
       "      <td>111900</td>\n",
       "    </tr>\n",
       "    <tr>\n",
       "      <th>8</th>\n",
       "      <td>1978</td>\n",
       "      <td>115200</td>\n",
       "    </tr>\n",
       "    <tr>\n",
       "      <th>9</th>\n",
       "      <td>1979</td>\n",
       "      <td>129300</td>\n",
       "    </tr>\n",
       "    <tr>\n",
       "      <th>10</th>\n",
       "      <td>1980</td>\n",
       "      <td>177100</td>\n",
       "    </tr>\n",
       "    <tr>\n",
       "      <th>11</th>\n",
       "      <td>1981</td>\n",
       "      <td>151800</td>\n",
       "    </tr>\n",
       "    <tr>\n",
       "      <th>12</th>\n",
       "      <td>1982</td>\n",
       "      <td>144800</td>\n",
       "    </tr>\n",
       "    <tr>\n",
       "      <th>13</th>\n",
       "      <td>1983</td>\n",
       "      <td>202300</td>\n",
       "    </tr>\n",
       "    <tr>\n",
       "      <th>14</th>\n",
       "      <td>1984</td>\n",
       "      <td>200700</td>\n",
       "    </tr>\n",
       "    <tr>\n",
       "      <th>15</th>\n",
       "      <td>1985</td>\n",
       "      <td>204600</td>\n",
       "    </tr>\n",
       "    <tr>\n",
       "      <th>16</th>\n",
       "      <td>1986</td>\n",
       "      <td>187100</td>\n",
       "    </tr>\n",
       "    <tr>\n",
       "      <th>17</th>\n",
       "      <td>1987</td>\n",
       "      <td>189000</td>\n",
       "    </tr>\n",
       "    <tr>\n",
       "      <th>18</th>\n",
       "      <td>1988</td>\n",
       "      <td>141400</td>\n",
       "    </tr>\n",
       "    <tr>\n",
       "      <th>19</th>\n",
       "      <td>1989</td>\n",
       "      <td>152200</td>\n",
       "    </tr>\n",
       "    <tr>\n",
       "      <th>20</th>\n",
       "      <td>1990</td>\n",
       "      <td>177300</td>\n",
       "    </tr>\n",
       "    <tr>\n",
       "      <th>21</th>\n",
       "      <td>1991</td>\n",
       "      <td>189300</td>\n",
       "    </tr>\n",
       "    <tr>\n",
       "      <th>22</th>\n",
       "      <td>1992</td>\n",
       "      <td>228400</td>\n",
       "    </tr>\n",
       "    <tr>\n",
       "      <th>23</th>\n",
       "      <td>1993</td>\n",
       "      <td>246600</td>\n",
       "    </tr>\n",
       "    <tr>\n",
       "      <th>24</th>\n",
       "      <td>1994</td>\n",
       "      <td>272100</td>\n",
       "    </tr>\n",
       "    <tr>\n",
       "      <th>25</th>\n",
       "      <td>1995</td>\n",
       "      <td>225100</td>\n",
       "    </tr>\n",
       "    <tr>\n",
       "      <th>26</th>\n",
       "      <td>1996</td>\n",
       "      <td>222700</td>\n",
       "    </tr>\n",
       "    <tr>\n",
       "      <th>27</th>\n",
       "      <td>1997</td>\n",
       "      <td>264100</td>\n",
       "    </tr>\n",
       "    <tr>\n",
       "      <th>28</th>\n",
       "      <td>1998</td>\n",
       "      <td>292100</td>\n",
       "    </tr>\n",
       "    <tr>\n",
       "      <th>29</th>\n",
       "      <td>1999</td>\n",
       "      <td>328300</td>\n",
       "    </tr>\n",
       "    <tr>\n",
       "      <th>30</th>\n",
       "      <td>2000</td>\n",
       "      <td>290412</td>\n",
       "    </tr>\n",
       "    <tr>\n",
       "      <th>31</th>\n",
       "      <td>2001</td>\n",
       "      <td>292208</td>\n",
       "    </tr>\n",
       "    <tr>\n",
       "      <th>32</th>\n",
       "      <td>2002</td>\n",
       "      <td>278456</td>\n",
       "    </tr>\n",
       "    <tr>\n",
       "      <th>33</th>\n",
       "      <td>2003</td>\n",
       "      <td>287017</td>\n",
       "    </tr>\n",
       "    <tr>\n",
       "      <th>34</th>\n",
       "      <td>2004</td>\n",
       "      <td>330441</td>\n",
       "    </tr>\n",
       "    <tr>\n",
       "      <th>35</th>\n",
       "      <td>2005</td>\n",
       "      <td>331225</td>\n",
       "    </tr>\n",
       "    <tr>\n",
       "      <th>36</th>\n",
       "      <td>2006</td>\n",
       "      <td>317856</td>\n",
       "    </tr>\n",
       "    <tr>\n",
       "      <th>37</th>\n",
       "      <td>2007</td>\n",
       "      <td>309633</td>\n",
       "    </tr>\n",
       "    <tr>\n",
       "      <th>38</th>\n",
       "      <td>2008</td>\n",
       "      <td>266244</td>\n",
       "    </tr>\n",
       "    <tr>\n",
       "      <th>39</th>\n",
       "      <td>2009</td>\n",
       "      <td>222356</td>\n",
       "    </tr>\n",
       "    <tr>\n",
       "      <th>40</th>\n",
       "      <td>2010</td>\n",
       "      <td>445796</td>\n",
       "    </tr>\n",
       "    <tr>\n",
       "      <th>41</th>\n",
       "      <td>2011</td>\n",
       "      <td>386063</td>\n",
       "    </tr>\n",
       "    <tr>\n",
       "      <th>42</th>\n",
       "      <td>2012</td>\n",
       "      <td>415279</td>\n",
       "    </tr>\n",
       "    <tr>\n",
       "      <th>43</th>\n",
       "      <td>2013</td>\n",
       "      <td>435792</td>\n",
       "    </tr>\n",
       "    <tr>\n",
       "      <th>44</th>\n",
       "      <td>2014</td>\n",
       "      <td>457921</td>\n",
       "    </tr>\n",
       "    <tr>\n",
       "      <th>45</th>\n",
       "      <td>2015</td>\n",
       "      <td>508614</td>\n",
       "    </tr>\n",
       "    <tr>\n",
       "      <th>46</th>\n",
       "      <td>2016</td>\n",
       "      <td>555984</td>\n",
       "    </tr>\n",
       "    <tr>\n",
       "      <th>47</th>\n",
       "      <td>2017</td>\n",
       "      <td>567879</td>\n",
       "    </tr>\n",
       "  </tbody>\n",
       "</table>\n",
       "</div>"
      ],
      "text/plain": [
       "       0       1\n",
       "0   1970   56500\n",
       "1   1971   49600\n",
       "2   1972   54800\n",
       "3   1973   91200\n",
       "4   1974  101600\n",
       "5   1975  112100\n",
       "6   1976  115300\n",
       "7   1977  111900\n",
       "8   1978  115200\n",
       "9   1979  129300\n",
       "10  1980  177100\n",
       "11  1981  151800\n",
       "12  1982  144800\n",
       "13  1983  202300\n",
       "14  1984  200700\n",
       "15  1985  204600\n",
       "16  1986  187100\n",
       "17  1987  189000\n",
       "18  1988  141400\n",
       "19  1989  152200\n",
       "20  1990  177300\n",
       "21  1991  189300\n",
       "22  1992  228400\n",
       "23  1993  246600\n",
       "24  1994  272100\n",
       "25  1995  225100\n",
       "26  1996  222700\n",
       "27  1997  264100\n",
       "28  1998  292100\n",
       "29  1999  328300\n",
       "30  2000  290412\n",
       "31  2001  292208\n",
       "32  2002  278456\n",
       "33  2003  287017\n",
       "34  2004  330441\n",
       "35  2005  331225\n",
       "36  2006  317856\n",
       "37  2007  309633\n",
       "38  2008  266244\n",
       "39  2009  222356\n",
       "40  2010  445796\n",
       "41  2011  386063\n",
       "42  2012  415279\n",
       "43  2013  435792\n",
       "44  2014  457921\n",
       "45  2015  508614\n",
       "46  2016  555984\n",
       "47  2017  567879"
      ]
     },
     "execution_count": 18,
     "metadata": {},
     "output_type": "execute_result"
    }
   ],
   "source": [
    "file= 'Vuelos_anuales_int.csv'\n",
    "data= pd.read_csv(file, header=None)\n",
    "data"
   ]
  },
  {
   "cell_type": "code",
   "execution_count": 19,
   "metadata": {},
   "outputs": [],
   "source": [
    "import numpy as np\n",
    "import scipy.optimize as opt"
   ]
  },
  {
   "cell_type": "code",
   "execution_count": 20,
   "metadata": {},
   "outputs": [],
   "source": [
    "x = data.iloc[:,0].values/(1e4)\n",
    "y = data.iloc[:,1].values/(1e6)"
   ]
  },
  {
   "cell_type": "code",
   "execution_count": 21,
   "metadata": {},
   "outputs": [],
   "source": [
    "def fun_obj(b, x, y, n):\n",
    "    return np.sum((y-b.dot([x**i for i in range(n+1)]))**2)"
   ]
  },
  {
   "cell_type": "code",
   "execution_count": 22,
   "metadata": {},
   "outputs": [],
   "source": [
    "b01 = np.zeros(2)\n",
    "ajuste1 = opt.minimize(fun_obj, b01, args=(x,y,1))\n",
    "b02 = np.zeros(3)\n",
    "ajuste2 = opt.minimize(fun_obj, b02, args=(x,y,2))\n",
    "b03 = np.zeros(4)\n",
    "ajuste3 = opt.minimize(fun_obj, b03, args=(x,y,3))\n",
    "b10 = np.zeros(11)\n",
    "ajuste10 = opt.minimize(fun_obj, b10, args=(x,y,10))"
   ]
  },
  {
   "cell_type": "markdown",
   "metadata": {},
   "source": [
    "___"
   ]
  },
  {
   "cell_type": "markdown",
   "metadata": {},
   "source": [
    "#### Se realizan los ajustes de curva para obtener el polinomio que mejor se ajuste al conjunto de datos. "
   ]
  },
  {
   "cell_type": "code",
   "execution_count": 23,
   "metadata": {},
   "outputs": [
    {
     "data": {
      "text/plain": [
       "      fun: 0.10627537813889931\n",
       " hess_inv: array([[  215.70964469, -1082.0126813 ],\n",
       "       [-1082.0126813 ,  5427.70344266]])\n",
       "      jac: array([-2.79396772e-09,  2.79396772e-09])\n",
       "  message: 'Optimization terminated successfully.'\n",
       "     nfev: 44\n",
       "      nit: 4\n",
       "     njev: 11\n",
       "   status: 0\n",
       "  success: True\n",
       "        x: array([-16.85106943,  85.76676367])"
      ]
     },
     "execution_count": 23,
     "metadata": {},
     "output_type": "execute_result"
    }
   ],
   "source": [
    "ajuste1"
   ]
  },
  {
   "cell_type": "code",
   "execution_count": 24,
   "metadata": {},
   "outputs": [
    {
     "data": {
      "text/plain": [
       "      fun: 0.10617436877070893\n",
       " hess_inv: array([[ 186.61964321, -865.76469545, -352.74843179],\n",
       "       [-865.76469545, 4016.71472126, 1636.35949438],\n",
       "       [-352.74843179, 1636.35949438,  667.79682412]])\n",
       "      jac: array([-1.15483999e-07,  1.14738941e-06, -2.87592411e-06])\n",
       "  message: 'Optimization terminated successfully.'\n",
       "     nfev: 55\n",
       "      nit: 4\n",
       "     njev: 11\n",
       "   status: 0\n",
       "  success: True\n",
       "        x: array([-15.65786659,  73.78890595,  30.05819595])"
      ]
     },
     "execution_count": 24,
     "metadata": {},
     "output_type": "execute_result"
    }
   ],
   "source": [
    "ajuste2"
   ]
  },
  {
   "cell_type": "code",
   "execution_count": 25,
   "metadata": {},
   "outputs": [
    {
     "data": {
      "text/plain": [
       "      fun: 0.10615762547766124\n",
       " hess_inv: array([[ 183.65159358, -848.16101928, -345.60725205, -104.12858013],\n",
       "       [-848.16101928, 3917.33946624, 1596.01356404,  480.88411684],\n",
       "       [-345.60725205, 1596.01356404,  651.41677492,  195.97254582],\n",
       "       [-104.12858013,  480.88411684,  195.97254582,   60.04710649]])\n",
       "      jac: array([-1.41561031e-07,  1.33458525e-06, -2.80048698e-06, -1.84122473e-06])\n",
       "  message: 'Optimization terminated successfully.'\n",
       "     nfev: 66\n",
       "      nit: 4\n",
       "     njev: 11\n",
       "   status: 0\n",
       "  success: True\n",
       "        x: array([-15.53111287,  72.87155913,  29.68714528,   8.9438603 ])"
      ]
     },
     "execution_count": 25,
     "metadata": {},
     "output_type": "execute_result"
    }
   ],
   "source": [
    "ajuste3"
   ]
  },
  {
   "cell_type": "code",
   "execution_count": 26,
   "metadata": {},
   "outputs": [
    {
     "data": {
      "text/plain": [
       "      fun: 0.10615564728626309\n",
       " hess_inv: array([[ 1.83398567e+02, -8.46778958e+02, -3.45046216e+02,\n",
       "        -1.03959619e+02, -2.77451538e+01, -6.93241110e+00,\n",
       "        -1.66214161e+00, -3.87093757e-01, -8.87516202e-02,\n",
       "        -1.95837141e-02, -4.58321273e-03],\n",
       "       [-8.46778958e+02,  3.90997084e+03,  1.59302077e+03,\n",
       "         4.79982751e+02,  1.28102142e+02,  3.20079985e+01,\n",
       "         7.67441932e+00,  1.78729406e+00,  4.09786790e-01,\n",
       "         9.04227940e-02,  2.11618941e-02],\n",
       "       [-3.45046216e+02,  1.59302077e+03,  6.50201253e+02,\n",
       "         1.95606457e+02,  5.22052011e+01,  1.30441503e+01,\n",
       "         3.12753899e+00,  7.28371878e-01,  1.66999463e-01,\n",
       "         3.68497899e-02,  8.62405654e-03],\n",
       "       [-1.03959619e+02,  4.79982751e+02,  1.95606457e+02,\n",
       "         5.99368486e+01,  1.57295913e+01,  3.93024321e+00,\n",
       "         9.42337212e-01,  2.19460701e-01,  5.03174536e-02,\n",
       "         1.11029552e-02,  2.59845474e-03],\n",
       "       [-2.77451538e+01,  1.28102142e+02,  5.22052011e+01,\n",
       "         1.57295913e+01,  5.19805321e+00,  1.04893822e+00,\n",
       "         2.51499319e-01,  5.85716189e-02,  1.34291682e-02,\n",
       "         2.96325512e-03,  6.93498627e-04],\n",
       "       [-6.93241110e+00,  3.20079985e+01,  1.30441503e+01,\n",
       "         3.93024321e+00,  1.04893822e+00,  1.26209086e+00,\n",
       "         6.28403751e-02,  1.46348804e-02,  3.35545222e-03,\n",
       "         7.40407803e-04,  1.73279643e-04],\n",
       "       [-1.66214161e+00,  7.67441932e+00,  3.12753899e+00,\n",
       "         9.42337212e-01,  2.51499319e-01,  6.28403751e-02,\n",
       "         1.01506696e+00,  3.50894101e-03,  8.04522040e-04,\n",
       "         1.77524326e-04,  4.15464986e-05],\n",
       "       [-3.87093757e-01,  1.78729406e+00,  7.28371878e-01,\n",
       "         2.19460701e-01,  5.85716189e-02,  1.46348804e-02,\n",
       "         3.50894101e-03,  1.00081720e+00,  1.87364948e-04,\n",
       "         4.13435984e-05,  9.67575422e-06],\n",
       "       [-8.87516202e-02,  4.09786790e-01,  1.66999463e-01,\n",
       "         5.03174536e-02,  1.34291682e-02,  3.35545222e-03,\n",
       "         8.04522040e-04,  1.87364948e-04,  1.00004296e+00,\n",
       "         9.47916643e-06,  2.21843497e-06],\n",
       "       [-1.95837141e-02,  9.04227940e-02,  3.68497899e-02,\n",
       "         1.11029552e-02,  2.96325512e-03,  7.40407803e-04,\n",
       "         1.77524326e-04,  4.13435984e-05,  9.47916643e-06,\n",
       "         1.00000209e+00,  4.89515700e-07],\n",
       "       [-4.58321273e-03,  2.11618941e-02,  8.62405654e-03,\n",
       "         2.59845474e-03,  6.93498627e-04,  1.73279643e-04,\n",
       "         4.15464986e-05,  9.67575422e-06,  2.21843497e-06,\n",
       "         4.89515700e-07,  1.00000011e+00]])\n",
       "      jac: array([-1.45286322e-07,  1.35414302e-06, -2.79024243e-06, -1.83843076e-06,\n",
       "       -7.59027898e-07, -2.57976353e-07, -7.82310963e-08, -2.23517418e-08,\n",
       "       -5.58793545e-09, -1.86264515e-09,  0.00000000e+00])\n",
       "  message: 'Optimization terminated successfully.'\n",
       "     nfev: 143\n",
       "      nit: 4\n",
       "     njev: 11\n",
       "   status: 0\n",
       "  success: True\n",
       "        x: array([-1.55202732e+01,  7.28031496e+01,  2.96594548e+01,  8.93552399e+00,\n",
       "        2.38466490e+00,  5.95820579e-01,  1.42854260e-01,  3.32687949e-02,\n",
       "        7.62770508e-03,  1.68310211e-03,  3.93897782e-04])"
      ]
     },
     "execution_count": 26,
     "metadata": {},
     "output_type": "execute_result"
    }
   ],
   "source": [
    "ajuste10"
   ]
  },
  {
   "cell_type": "code",
   "execution_count": 40,
   "metadata": {},
   "outputs": [],
   "source": [
    "xpoints = x*1e4\n",
    "ypoints = y*1e6\n",
    "yhat1 = (ajuste1.x[0]+ajuste1.x[1]*xpoints/(1e4))*1e6\n",
    "yhat2 = (ajuste2.x[0]+ajuste2.x[1]*xpoints/(1e4)+\n",
    "         ajuste2.x[2]*(xpoints/(1e4))**2)*1e6\n",
    "yhat3 = (ajuste3.x[0]+ajuste3.x[1]*xpoints/(1e4)+\n",
    "         ajuste3.x[2]*(xpoints/(1e4))**2+\n",
    "         ajuste3.x[3]*(xpoints/(1e4))**3)*1e6\n",
    "yhat10 = (ajuste10.x[0]+ajuste10.x[1]*xpoints/(1e4)+\n",
    "         ajuste10.x[2]*(xpoints/(1e4))**2+\n",
    "         ajuste10.x[3]*(xpoints/(1e4))**3+\n",
    "         ajuste10.x[4]*(xpoints/(1e4))**4+\n",
    "         ajuste10.x[5]*(xpoints/(1e4))**5+\n",
    "         ajuste10.x[6]*(xpoints/(1e4))**6+\n",
    "         ajuste10.x[7]*(xpoints/(1e4))**7+\n",
    "         ajuste10.x[8]*(xpoints/(1e4))**8+\n",
    "         ajuste10.x[9]*(xpoints/(1e4))**9+\n",
    "         ajuste10.x[10]*(xpoints/(1e4))**10)*1e6"
   ]
  },
  {
   "cell_type": "code",
   "execution_count": 41,
   "metadata": {},
   "outputs": [],
   "source": [
    "import matplotlib.pyplot as plt"
   ]
  },
  {
   "cell_type": "code",
   "execution_count": 51,
   "metadata": {},
   "outputs": [
    {
     "data": {
      "image/png": "[encoded data removed]",
      "text/plain": [
       "<Figure size 720x576 with 1 Axes>"
      ]
     },
     "metadata": {
      "needs_background": "light"
     },
     "output_type": "display_data"
    }
   ],
   "source": [
    "plt.figure(figsize=(10,8))\n",
    "plt.plot(xpoints, ypoints, 'ro', ms=5, label='Datos')\n",
    "plt.plot(xpoints, yhat1, 'k', lw=2, label='Ajuste 1')\n",
    "plt.plot(xpoints, yhat2, 'b', lw=2, label='Ajuste 2')\n",
    "plt.plot(xpoints, yhat3, 'y', lw=2, label='Ajuste 3')\n",
    "plt.plot(xpoints, yhat10, 'g', lw=2, label='Ajuste 10')\n",
    "plt.xlabel('Años')\n",
    "plt.ylabel('Población (miles de personas)')\n",
    "plt.grid()\n",
    "plt.legend(loc='best')\n",
    "plt.show()"
   ]
  },
  {
   "cell_type": "code",
   "execution_count": 32,
   "metadata": {},
   "outputs": [
    {
     "data": {
      "text/plain": [
       "Text(0, 0.5, 'error')"
      ]
     },
     "execution_count": 32,
     "metadata": {},
     "output_type": "execute_result"
    },
    {
     "data": {
      "image/png": "[encoded data removed]",
      "text/plain": [
       "<Figure size 576x432 with 1 Axes>"
      ]
     },
     "metadata": {
      "needs_background": "light"
     },
     "output_type": "display_data"
    }
   ],
   "source": [
    "error = [ajuste1.fun, ajuste2.fun, ajuste3.fun,ajuste10.fun]\n",
    "plt.figure(figsize=(8,6))\n",
    "plt.plot(range(1,5), error, 'ro', ms=5)\n",
    "plt.xlabel('Orden del polinomio')\n",
    "plt.ylabel('error')"
   ]
  },
  {
   "cell_type": "markdown",
   "metadata": {},
   "source": [
    "##### En la grafica anterior se puede observar que el polinomio que mejor se ajusta es el de grado 3, pues después de éste la diferencia entre errores "
   ]
  },
  {
   "cell_type": "markdown",
   "metadata": {},
   "source": [
    "##### El polinomio que mejor funciona es el de grado 3"
   ]
  },
  {
   "cell_type": "markdown",
   "metadata": {},
   "source": [
    "###### Los siguientes ajustes estiman los pasajeros para los años 2016 y 2017 respectivamente ."
   ]
  },
  {
   "cell_type": "code",
   "execution_count": 33,
   "metadata": {},
   "outputs": [
    {
     "data": {
      "text/plain": [
       "439636.9147114663"
      ]
     },
     "execution_count": 33,
     "metadata": {},
     "output_type": "execute_result"
    }
   ],
   "source": [
    "yhat3 = (ajuste3.x[0]+ajuste3.x[1]*2016/(1e4)+\n",
    "         ajuste3.x[2]*(2016/(1e4))**2+\n",
    "         ajuste3.x[3]*(2016/(1e4))**3)*1e6\n",
    "\n",
    "yhat3"
   ]
  },
  {
   "cell_type": "code",
   "execution_count": 34,
   "metadata": {},
   "outputs": [
    {
     "data": {
      "text/plain": [
       "448230.4577083614"
      ]
     },
     "execution_count": 34,
     "metadata": {},
     "output_type": "execute_result"
    }
   ],
   "source": [
    "yhat3 = (ajuste3.x[0]+ajuste3.x[1]*2017/(1e4)+\n",
    "         ajuste3.x[2]*(2017/(1e4))**2+\n",
    "         ajuste3.x[3]*(2017/(1e4))**3)*1e6\n",
    "\n",
    "yhat3"
   ]
  },
  {
   "cell_type": "markdown",
   "metadata": {},
   "source": [
    "___"
   ]
  },
  {
   "cell_type": "markdown",
   "metadata": {},
   "source": [
    "IV. <Strong> <font color=\"green\"> Conclusiones <font> </Strong> "
   ]
  },
  {
   "cell_type": "markdown",
   "metadata": {},
   "source": [
    ">  \n",
    "- Es mas rápido y fácil ajustar las curvas en el programa e    incluso se pueden ver las graficas para comparar los resultados medidos y los resultados procesados por el programa.\n",
    "- Un arreglo de tercer grado es suficiente para la función ya que despues de esta el error no se reduce exponencialmente.\n",
    "- Finalmente la estimación para los años siguientes a de los datos dados nos da una continuación coherente a nuestras graficas.\n",
    "\n"
   ]
  },
  {
   "cell_type": "markdown",
   "metadata": {},
   "source": [
    "___"
   ]
  },
  {
   "cell_type": "markdown",
   "metadata": {},
   "source": [
    "V. <Strong> <font color=\"green\"> Referencias <font> </Strong> "
   ]
  },
  {
   "cell_type": "markdown",
   "metadata": {},
   "source": [
    "##### Clase 4:  Optimización con SymPy.\n",
    "##### Clase 6: Ajuste de curvas.\n",
    "###### World Bank group . (2019). Air transport, registered carrier departures worldwide. 29/09/2019, de World Bank group Sitio web: https://data.worldbank.org/indicator/IS.AIR.DPRT\n",
    "\n",
    "\n"
   ]
  }
 ],
 "metadata": {
  "kernelspec": {
   "display_name": "Python 3",
   "language": "python",
   "name": "python3"
  },
  "language_info": {
   "codemirror_mode": {
    "name": "ipython",
    "version": 3
   },
   "file_extension": ".py",
   "mimetype": "text/x-python",
   "name": "python",
   "nbconvert_exporter": "python",
   "pygments_lexer": "ipython3",
   "version": "3.7.3"
  }
 },
 "nbformat": 4,
 "nbformat_minor": 2
}
